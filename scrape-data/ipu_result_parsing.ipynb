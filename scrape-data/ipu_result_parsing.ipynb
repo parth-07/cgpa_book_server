{
 "cells": [
  {
   "cell_type": "code",
   "execution_count": null,
   "metadata": {
    "colab": {
     "base_uri": "https://localhost:8080/"
    },
    "id": "kM5SLsrsKVJY",
    "outputId": "dabc0e72-c44d-4917-c97f-9f8f96826264"
   },
   "outputs": [],
   "source": [
    "!pip3 install tabula-py numpy pandas pyPDF2 requests beautifulsoup4 tqdm"
   ]
  },
  {
   "cell_type": "code",
   "execution_count": null,
   "metadata": {
    "id": "zJrEGKNxKVJh"
   },
   "outputs": [],
   "source": [
    "import tabula\n",
    "import numpy as np\n",
    "import pandas as pd\n",
    "import os \n",
    "from pathlib import Path\n",
    "import PyPDF2\n",
    "import re\n",
    "import requests\n",
    "import json\n",
    "import time\n",
    "import requests\n",
    "from bs4 import BeautifulSoup as bs4\n",
    "import urllib\n",
    "from multiprocessing import Pool,Manager,Queue\n",
    "from tqdm import tqdm"
   ]
  },
  {
   "cell_type": "code",
   "execution_count": null,
   "metadata": {
    "id": "2Ki4a6psKVJn"
   },
   "outputs": [],
   "source": [
    "req=requests.get(\"http://ggsipu.ac.in/ExamResults/ExamResultsmain.htm\")\n",
    "\n",
    "bs=bs4(req.text)\n",
    "\n",
    "ahrefs=[i.attrs['href'] for i in bs.table.find_all(\"a\")]"
   ]
  },
  {
   "cell_type": "code",
   "execution_count": null,
   "metadata": {
    "id": "zkn3yFIjKVJt"
   },
   "outputs": [],
   "source": [
    "try:\n",
    "    os.mkdir(\"files\")\n",
    "except FileExistsError:\n",
    "    pass\n",
    "os.chdir(\"files\")"
   ]
  },
  {
   "cell_type": "code",
   "execution_count": null,
   "metadata": {
    "colab": {
     "base_uri": "https://localhost:8080/"
    },
    "id": "KakRZ3KkKVJ0",
    "outputId": "5dc04ca8-393d-4610-a075-40980b2bba93"
   },
   "outputs": [],
   "source": [
    "for i in range(len(ahrefs)):\n",
    "    ahrefs[i]='http://ggsipu.ac.in/ExamResults/'+urllib.parse.unquote(ahrefs[i])\n",
    "ahrefs"
   ]
  },
  {
   "cell_type": "code",
   "execution_count": null,
   "metadata": {
    "id": "ZBDOfnT3KVJ-"
   },
   "outputs": [],
   "source": [
    "filenames=os.listdir()"
   ]
  },
  {
   "cell_type": "code",
   "execution_count": null,
   "metadata": {
    "id": "HLg78_GoKVKE"
   },
   "outputs": [],
   "source": [
    "scheme_reg = re.compile(r'scheme\\s+of\\s+examinations',re.IGNORECASE)\n",
    "institution_reg = re.compile(r'institution\\s*:\\s*([\\w\\n(,)\\-.& ]+)S\\.No',re.IGNORECASE)\n",
    "sem_reg = re.compile(r'se\\s?m[.//\\w\\n]+:\\s+([\\w\\n]+)',re.IGNORECASE)\n",
    "programme_reg = re.compile(r'programme\\s+name:\\s+([\\w(,)\\-& \\n]+)SchemeID',re.IGNORECASE)\n",
    "branch_reg = re.compile(r'[\\w ,\\-&]+\\(([\\w, \\-]+)\\)')"
   ]
  },
  {
   "cell_type": "code",
   "execution_count": null,
   "metadata": {
    "colab": {
     "base_uri": "https://localhost:8080/",
     "height": 35
    },
    "id": "KpN8lAeTMTXs",
    "outputId": "6d3f93e3-1a28-44ff-fb10-d945d4167038"
   },
   "outputs": [],
   "source": [
    "def filter_text(text):\n",
    "    return ' '.join(text.strip().split()).replace('&','and').replace('.','').title()\n",
    "filter_text('Dr. Akhilesh Das Gupta Institute Of Technology And Management(Formerly Niec)')"
   ]
  },
  {
   "cell_type": "code",
   "execution_count": null,
   "metadata": {
    "id": "KUl64WUTKVKK"
   },
   "outputs": [],
   "source": [
    "def get_info(text) :\n",
    "    college = filter_text(institution_reg.search(text)[1])\n",
    "    semester = int(sem_reg.search(text)[1].strip())\n",
    "    course = filter_text(programme_reg.search(text)[1])\n",
    "    try:\n",
    "        branch = filter_text(branch_reg.search(course)[1])\n",
    "    except TypeError:\n",
    "        branch = \"None\"\n",
    "    if('(' in course):\n",
    "        course = course[0:course.find('(')].strip()\n",
    "    info = {\n",
    "        'college' : college,\n",
    "        'semester' : semester,\n",
    "        'course' : course,\n",
    "        'branch' : branch,\n",
    "    }\n",
    "    return info"
   ]
  },
  {
   "cell_type": "code",
   "execution_count": null,
   "metadata": {
    "colab": {
     "base_uri": "https://localhost:8080/",
     "height": 282
    },
    "id": "_xEMIkdJc5Ko",
    "outputId": "fa29b24f-9f84-4ff3-a438-3cec490103a2"
   },
   "outputs": [],
   "source": [
    "## Debug:\n",
    "text=\"Paper Code (Credit***)InternalTotal (Grade**)LEGENDExternal** If Grade Based*** If Credit BasedResult Prepration Date : 16-JUN-20SCHEME OF EXAMINATIONSPrg. Code: 888      Programme: BACHELOR OF COMMERCE (HONOURS)      SchemeID: 148882017001      Sem./Annual: FIRST SEMESTERS. No.PaperIDPaper CodePaper NameCreditInstitution Code: 123      Institution: DELHI INSTITUTE OF ADVANCED STUDIESTypeKindExamModeMinorMajorMax. MarksPass Marks1888101BCOM101MANAGEMENT PROCESS AND ORGANIZATIONAL BEHAVIOUR4THEORYUESCOMPULSORYDROPPABLE2575100402888103BCOM103FINANCIAL ACCOUNTING4THEORYUESCOMPULSORYDROPPABLE2575100403888105BCOM105MICRO ECONOMICS4THEORYUESCOMPULSORYDROPPABLE2575100404888107BCOM107BUSINESS COMMUNICATION4THEORYUESCOMPULSORYDROPPABLE2575100405888109BCOM109COMPUTER APPLICATIONS4THEORYUESCOMPULSORYDROPPABLE2575100406888111BCOM111COMPUTER APPLICATIONS LAB2PRACTICALUESCOMPULSORYDROPPABLE406010040Printed On: 19-Jun-2020Page No.: 1\"\n",
    "print(text)\n",
    "get_info(text)"
   ]
  },
  {
   "cell_type": "code",
   "execution_count": null,
   "metadata": {
    "id": "0UF0N-i7KVKP"
   },
   "outputs": [],
   "source": [
    "SITE = \"https://api-rhapsody.herokuapp.com/academia\"\n",
    "# SITE = \"http://localhost:3000/academia\""
   ]
  },
  {
   "cell_type": "code",
   "execution_count": null,
   "metadata": {
    "id": "mktCafYJKVKT"
   },
   "outputs": [],
   "source": [
    "# #Add college\n",
    "# data ={ \n",
    "#     'college' : {\n",
    "#         'college' : \"University School Of Information, Communication & Technology (Formerly Usit)\"\n",
    "#         }\n",
    "# }\n",
    "# r = requests.post(SITE+\"/college\",json=data)\n",
    "# print(r,r.content)\n"
   ]
  },
  {
   "cell_type": "code",
   "execution_count": null,
   "metadata": {
    "id": "bYAz-8QFKVKa"
   },
   "outputs": [],
   "source": [
    "def already_exists(info) :\n",
    "    r = requests.get(SITE+\"/semester\",params=info)\n",
    "    content = json.loads(r.content)\n",
    "#     print(r.status_code,r.content)\n",
    "    return r.status_code == 200 and content != {}\n",
    "\n",
    "def already_exists_college(info):\n",
    "    r = requests.get(SITE+\"/college\",params=info)\n",
    "    content = json.loads(r.content)\n",
    "#     print(r.status_code,r.content)\n",
    "    return r.status_code == 200 and content != {}\n",
    "\n",
    "    "
   ]
  },
  {
   "cell_type": "code",
   "execution_count": null,
   "metadata": {
    "id": "Tv_Pmz3RKVKe"
   },
   "outputs": [],
   "source": [
    "def getSubjects(df) :\n",
    "    subjects = []\n",
    "    for index,row in df.iterrows() :\n",
    "        subject = {}\n",
    "        subject['subject'] = row['Subject'].strip().title()\n",
    "        subject['subjectCode'] = row['Code']\n",
    "        subject['credits'] = row['Credit']\n",
    "        subjects.append(subject)\n",
    "    return subjects"
   ]
  },
  {
   "cell_type": "code",
   "execution_count": null,
   "metadata": {
    "id": "bmFP_yaZKVKi"
   },
   "outputs": [],
   "source": [
    "def pdfextract(filename,queue,colleges,infos):\n",
    "    sno=queue.get()\n",
    "    success=True\n",
    "    try:\n",
    "      pdf = PyPDF2.PdfFileReader(filename)\n",
    "    except Exception as e:\n",
    "      print(f\"{sno}:{filename} PDF error\")\n",
    "      return False\n",
    "    pages=pdf.getNumPages()\n",
    "    for i in range(0,pages) :\n",
    "        text = pdf.getPage(i).extractText()\n",
    "        text=text.replace(\"\\n\",'')\n",
    "        if scheme_reg.search(text) :\n",
    "            try:\n",
    "                info = get_info(text)\n",
    "                if  info in infos or already_exists(info):\n",
    "                    print(f\"{sno}:already exists {info}\")\n",
    "                    if info not in infos:\n",
    "                        infos.append(info)\n",
    "                    continue\n",
    "                df = tabula.read_pdf(filename,pages=i+1)\n",
    "                subjects = getSubjects(df[0])     \n",
    "            except Exception as e:\n",
    "                success=False\n",
    "                print(f\"{sno}:{filename}:{i}\")\n",
    "                print(f\"{text}\")\n",
    "                traceback.print_exc() \n",
    "                break\n",
    "            #     print(e)\n",
    "            #     continue\n",
    "            print(f\"{sno}:adding {info}\")\n",
    "            info['semester'] = {'semester' : info['semester'], 'subjects' : subjects}\n",
    "            data ={ \n",
    "                'college' : {\n",
    "                    'college' : info[\"college\"]\n",
    "                    }\n",
    "            }\n",
    "            if(info['college'] not in colleges and not already_exists_college(info)):\n",
    "                print(f\"{sno}:adding college {info['college']}\")\n",
    "                r = requests.post(SITE+\"/college\",json=data)\n",
    "                colleges.append(info['college'])\n",
    "            r = requests.post(SITE+\"/semester\",json=info)\n",
    "            if r.status_code!=200:\n",
    "                print(f\"{sno}:{filename}:{i} status_code:{r.status_code}\\n\\t{r}:{r.content}\\n\\t{info}\")\n",
    "                if('Semester already exist' in r.content.decode()):\n",
    "                    infos.append(info)\n",
    "                    if(info['college'] not in colleges):\n",
    "                        colleges.append(info['college'])\n",
    "            else:\n",
    "                print(f\"{sno}: added {info} success\")\n",
    "    return success"
   ]
  },
  {
   "cell_type": "code",
   "execution_count": null,
   "metadata": {
    "id": "lTgm0g_OKVKp"
   },
   "outputs": [],
   "source": [
    "def download(_):\n",
    "    url,filename,queue,colleges,infos= _\n",
    "    filename=str(filename)+\".pdf\"\n",
    "    r=requests.get(url,allow_redirects=True)\n",
    "    f=open(filename,'wb')\n",
    "    f.write(r.content)\n",
    "    f.close()\n",
    "    _=pdfextract(filename,queue,colleges,infos)\n",
    "    if(_==True):\n",
    "        os.remove(filename)"
   ]
  },
  {
   "cell_type": "code",
   "execution_count": null,
   "metadata": {
    "colab": {
     "base_uri": "https://localhost:8080/"
    },
    "id": "O6DiURY9KVKy",
    "outputId": "524af08e-8901-4f32-8f48-111954569b88"
   },
   "outputs": [],
   "source": [
    "from itertools import repeat\n",
    "import traceback\n",
    "import pandas as pd\n",
    "start=277\n",
    "end=278\n",
    "with Manager() as manager:\n",
    "    queue = manager.Queue()\n",
    "    colleges = manager.list()\n",
    "    infos = manager.list()\n",
    "    for i in range(start,end,1):\n",
    "        queue.put(i)\n",
    "    with Pool(8) as pool:\n",
    "        for _ in pool.imap_unordered(download,list(zip(ahrefs[start:end],range(start,end,1),repeat(queue,end-start),repeat(colleges,end-start),repeat(infos,end-start)))):\n",
    "          pass"
   ]
  }
 ],
 "metadata": {
  "colab": {
   "name": "ipu_result_parsing.ipynb",
   "provenance": []
  },
  "kernelspec": {
   "display_name": "myenv",
   "language": "python",
   "name": "myenv"
  },
  "language_info": {
   "codemirror_mode": {
    "name": "ipython",
    "version": 3
   },
   "file_extension": ".py",
   "mimetype": "text/x-python",
   "name": "python",
   "nbconvert_exporter": "python",
   "pygments_lexer": "ipython3",
   "version": "3.8.5"
  }
 },
 "nbformat": 4,
 "nbformat_minor": 1
}
