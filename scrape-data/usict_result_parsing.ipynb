{
 "cells": [
  {
   "cell_type": "code",
   "execution_count": 1,
   "metadata": {},
   "outputs": [],
   "source": [
    "import tabula\n",
    "import numpy as np\n",
    "import pandas as pd\n",
    "import os \n",
    "from pathlib import Path\n",
    "import PyPDF2\n",
    "import re\n",
    "import requests\n",
    "import json\n",
    "import time"
   ]
  },
  {
   "cell_type": "code",
   "execution_count": 23,
   "metadata": {},
   "outputs": [],
   "source": [
    "# filenames = [\n",
    "#              os.path.expanduser('/home/parth/Documents/USICT/it_res.pdf'),\n",
    "#              os.path.expanduser('/home/parth/Documents/USICT/cse_res.pdf'),\n",
    "#              os.path.expanduser('/home/parth/Documents/USICT/ece_res.pdf')]\n",
    "filenames = [\n",
    "    os.path.expanduser('~/Documents/USICT/ipu_results/cse_even_sems.pdf'),\n",
    "    os.path.expanduser('~/Documents/USICT/ipu_results/ece_even_sems.pdf')\n",
    "]"
   ]
  },
  {
   "cell_type": "code",
   "execution_count": 9,
   "metadata": {},
   "outputs": [],
   "source": [
    "scheme_reg = re.compile(r'scheme\\s+of\\s+examinations',re.IGNORECASE)\n",
    "institution_reg = re.compile(r'institution\\s*:\\s*([\\w\\n(,)& ]+)\\nS\\.No',re.IGNORECASE)\n",
    "sem_reg = re.compile(r'se\\s?m[.//\\w\\n]+:\\s+([\\w\\n]+)',re.IGNORECASE)\n",
    "programme_reg = re.compile(r'programme\\s+name:\\s+([\\w(,)& \\n]+)SchemeID',re.IGNORECASE)\n",
    "branch_reg = re.compile(r'[\\w &]+\\(([\\w ]+)\\)')"
   ]
  },
  {
   "cell_type": "code",
   "execution_count": 10,
   "metadata": {},
   "outputs": [],
   "source": [
    "def get_info(text) :\n",
    "    college = institution_reg.search(text)[1].replace('\\n','').strip().title()\n",
    "    semester = int(sem_reg.search(text)[1].replace('\\n','').strip())\n",
    "    course = programme_reg.search(text)[1].replace('\\n','').strip().title()\n",
    "    branch = branch_reg.search(course)[1].strip().title()\n",
    "    course = course[0:course.find('(')].strip()\n",
    "    info = {\n",
    "        'college' : college,\n",
    "        'semester' : semester,\n",
    "        'course' : course,\n",
    "        'branch' : branch,\n",
    "    }\n",
    "    return info"
   ]
  },
  {
   "cell_type": "code",
   "execution_count": 33,
   "metadata": {},
   "outputs": [],
   "source": [
    "SITE = \"https://cgpa-book.herokuapp.com/academia\"\n",
    "# SITE = \"http://localhost:3000/academia\""
   ]
  },
  {
   "cell_type": "code",
   "execution_count": 34,
   "metadata": {},
   "outputs": [
    {
     "name": "stdout",
     "output_type": "stream",
     "text": [
      "<Response [200]> b'OK'\n"
     ]
    }
   ],
   "source": [
    "#Add college\n",
    "data ={ \n",
    "    'college' : {\n",
    "        'college' : \"University School Of Information, Communication & Technology (Formerly Usit)\"\n",
    "        }\n",
    "}\n",
    "r = requests.post(SITE+\"/college\",json=data)\n",
    "print(r,r.content)\n"
   ]
  },
  {
   "cell_type": "code",
   "execution_count": 11,
   "metadata": {},
   "outputs": [],
   "source": [
    "def already_exists(info) :\n",
    "    r = requests.get(SITE+\"/semester\",params=info)\n",
    "    content = json.loads(r.content)\n",
    "#     print(r.status_code,r.content)\n",
    "    return r.status_code == 200 and content != {}\n",
    "    "
   ]
  },
  {
   "cell_type": "code",
   "execution_count": 12,
   "metadata": {},
   "outputs": [],
   "source": [
    "def getSubjects(df) :\n",
    "    subjects = []\n",
    "    for index,row in df.iterrows() :\n",
    "        subject = {}\n",
    "        subject['subject'] = row['Subject'].strip().title()\n",
    "        subject['subjectCode'] = row['Code']\n",
    "        subject['credits'] = row['Credit']\n",
    "        subjects.append(subject)\n",
    "    return subjects"
   ]
  },
  {
   "cell_type": "code",
   "execution_count": 35,
   "metadata": {},
   "outputs": [
    {
     "name": "stdout",
     "output_type": "stream",
     "text": [
      "/home/parth/Documents/USICT/ipu_results/cse_even_sems.pdf 31\n",
      "<Response [200]> b'OK'\n",
      "<Response [400]> b'{\"type\":\"ValueError\",\"message\":\"College validation failed: courses.0.branches.0.semesters: Semester already exists\"}'\n",
      "<Response [400]> b'{\"type\":\"ValueError\",\"message\":\"College validation failed: courses.0.branches.0.semesters: Semester already exists\"}'\n",
      "<Response [400]> b'{\"type\":\"ValueError\",\"message\":\"College validation failed: courses.0.branches.0.semesters: Semester already exists\"}'\n",
      "<Response [200]> b'OK'\n",
      "<Response [400]> b'{\"type\":\"ValueError\",\"message\":\"College validation failed: courses.0.branches.0.semesters: Semester already exists\"}'\n",
      "<Response [400]> b'{\"type\":\"ValueError\",\"message\":\"College validation failed: courses.0.branches.0.semesters: Semester already exists\"}'\n",
      "<Response [400]> b'{\"type\":\"ValueError\",\"message\":\"College validation failed: courses.0.branches.0.semesters: Semester already exists\"}'\n",
      "<Response [200]> b'OK'\n",
      "/home/parth/Documents/USICT/ipu_results/ece_even_sems.pdf 22\n",
      "<Response [200]> b'OK'\n",
      "<Response [400]> b'{\"type\":\"ValueError\",\"message\":\"College validation failed: courses.0.branches.1.semesters: Semester already exists\"}'\n",
      "<Response [400]> b'{\"type\":\"ValueError\",\"message\":\"College validation failed: courses.0.branches.1.semesters: Semester already exists\"}'\n",
      "<Response [200]> b'OK'\n",
      "<Response [200]> b'OK'\n"
     ]
    }
   ],
   "source": [
    "for filename in filenames :\n",
    "    pdf = PyPDF2.PdfFileReader(filename)\n",
    "    print(filename,pdf.getNumPages())\n",
    "    \n",
    "    for i in range(0,pdf.getNumPages()) :\n",
    "        text = pdf.getPage(i).extractText()\n",
    "        if scheme_reg.search(text) :\n",
    "            info = get_info(text)\n",
    "            df = tabula.read_pdf(filename,pages=i+1)\n",
    "            subjects = getSubjects(df[0])        \n",
    "            if already_exists(info) :\n",
    "                print(\"information already exists\")\n",
    "                continue\n",
    "            info['semester'] = {'semester' : info['semester'], 'subjects' : subjects}\n",
    "            r = requests.post(SITE+\"/semester\",json=info)\n",
    "            print(r,r.content)\n",
    "            time.sleep(2)\n",
    "#             print(info)\n",
    "\n",
    "    "
   ]
  },
  {
   "cell_type": "code",
   "execution_count": null,
   "metadata": {},
   "outputs": [],
   "source": [
    "from IPython.display import display"
   ]
  },
  {
   "cell_type": "code",
   "execution_count": null,
   "metadata": {},
   "outputs": [],
   "source": []
  }
 ],
 "metadata": {
  "kernelspec": {
   "display_name": "Python 3",
   "language": "python",
   "name": "python3"
  },
  "language_info": {
   "codemirror_mode": {
    "name": "ipython",
    "version": 3
   },
   "file_extension": ".py",
   "mimetype": "text/x-python",
   "name": "python",
   "nbconvert_exporter": "python",
   "pygments_lexer": "ipython3",
   "version": "3.8.5"
  }
 },
 "nbformat": 4,
 "nbformat_minor": 4
}
