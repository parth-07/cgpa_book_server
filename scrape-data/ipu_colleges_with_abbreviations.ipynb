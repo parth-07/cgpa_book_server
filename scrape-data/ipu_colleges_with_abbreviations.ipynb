{
 "cells": [
  {
   "cell_type": "code",
   "execution_count": 1,
   "metadata": {},
   "outputs": [],
   "source": [
    "import bs4\n",
    "from bs4 import BeautifulSoup\n",
    "import requests\n",
    "import re"
   ]
  },
  {
   "cell_type": "code",
   "execution_count": 2,
   "metadata": {},
   "outputs": [],
   "source": [
    "r = requests.get('http://www.ipu.ac.in/listinstitute041018.php')"
   ]
  },
  {
   "cell_type": "code",
   "execution_count": 3,
   "metadata": {},
   "outputs": [],
   "source": [
    "bs = BeautifulSoup(r.content,features='lxml')"
   ]
  },
  {
   "cell_type": "code",
   "execution_count": 4,
   "metadata": {},
   "outputs": [],
   "source": [
    "pattern = re.compile(r'(www\\.)?(?P<abbreviation>[-\\w]+)\\.[.\\w]+')"
   ]
  },
  {
   "cell_type": "code",
   "execution_count": 5,
   "metadata": {},
   "outputs": [],
   "source": [
    "def fix_extraws(s) :\n",
    "    s = s.strip()\n",
    "    return re.sub('\\s+',' ',s)"
   ]
  },
  {
   "cell_type": "code",
   "execution_count": 6,
   "metadata": {},
   "outputs": [],
   "source": [
    "colleges= []"
   ]
  },
  {
   "cell_type": "code",
   "execution_count": 7,
   "metadata": {},
   "outputs": [],
   "source": [
    "tables = bs.findAll('table')"
   ]
  },
  {
   "cell_type": "code",
   "execution_count": 8,
   "metadata": {},
   "outputs": [],
   "source": [
    "for table in tables :\n",
    "    trows = table.findAll('tr')\n",
    "    for row in trows :\n",
    "        check = row.find('a',href=True)\n",
    "        if not check : \n",
    "            continue\n",
    "        row_data = row.findAll('td')\n",
    "        serial_no = fix_extraws(row_data[0].get_text())\n",
    "        college_name = fix_extraws(row_data[1].get_text())\n",
    "        match = pattern.match(row_data[2].get_text())\n",
    "#         print(row_data[2].get_text(),match)\n",
    "        abbrev = match['abbreviation']\n",
    "#         print(serial_no,college_name,abbrev)\n",
    "        colleges.append({\n",
    "            'serial_no' : serial_no,\n",
    "            'college_name' : college_name,\n",
    "            'abbrev' : abbrev\n",
    "        })\n",
    "#     break"
   ]
  },
  {
   "cell_type": "code",
   "execution_count": 9,
   "metadata": {},
   "outputs": [
    {
     "data": {
      "text/plain": [
       "{'serial_no': '3',\n",
       " 'college_name': 'Bhai Parmanand Institute of Business Studies, Opp. Madhuban, Shakarpur (Extn.), Delhi - 110092',\n",
       " 'abbrev': 'bpibs'}"
      ]
     },
     "execution_count": 9,
     "metadata": {},
     "output_type": "execute_result"
    }
   ],
   "source": [
    "colleges[2]"
   ]
  },
  {
   "cell_type": "code",
   "execution_count": 10,
   "metadata": {},
   "outputs": [],
   "source": [
    "SITE = 'http://localhost:3000/academia/college'"
   ]
  },
  {
   "cell_type": "code",
   "execution_count": 12,
   "metadata": {},
   "outputs": [],
   "source": [
    "for college in colleges : \n",
    "    college = {\n",
    "        'college' : {\n",
    "        'college' : college['college_name'],\n",
    "        'abbreviation' : college['abbrev']\n",
    "        }   \n",
    "    }\n",
    "    r = requests.post(SITE,json=college)"
   ]
  },
  {
   "cell_type": "code",
   "execution_count": null,
   "metadata": {},
   "outputs": [],
   "source": []
  }
 ],
 "metadata": {
  "kernelspec": {
   "display_name": "Python 3",
   "language": "python",
   "name": "python3"
  },
  "language_info": {
   "codemirror_mode": {
    "name": "ipython",
    "version": 3
   },
   "file_extension": ".py",
   "mimetype": "text/x-python",
   "name": "python",
   "nbconvert_exporter": "python",
   "pygments_lexer": "ipython3",
   "version": "3.8.5"
  }
 },
 "nbformat": 4,
 "nbformat_minor": 4
}
